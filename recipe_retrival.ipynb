{
 "cells": [
  {
   "cell_type": "markdown",
   "id": "352aaefd-d0ba-49dc-aa74-f3a846fae96f",
   "metadata": {},
   "source": [
    "# Recipe retrival!"
   ]
  },
  {
   "cell_type": "code",
   "execution_count": null,
   "id": "4d55339c-036a-4aa7-9352-3aed039c6e2a",
   "metadata": {},
   "outputs": [],
   "source": [
    "import requests\n",
    "from bs4 import BeautifulSoup\n",
    "import pandas as pd "
   ]
  },
  {
   "cell_type": "markdown",
   "id": "4a0afaec-2176-42c7-ba39-eeaef8173811",
   "metadata": {},
   "source": [
    "## Getting the recipe links!\n",
    "Scraping the website for the top recipes by ingredient over all ingredients. "
   ]
  },
  {
   "cell_type": "code",
   "execution_count": 164,
   "id": "f647c051-e179-4b4c-b2c8-9771835ac5c3",
   "metadata": {},
   "outputs": [],
   "source": [
    "headers = {'user-agent': 'Pindale UVA HooHacks Project (mwp8zy@virginia.edu)'}\n",
    "Base_url = 'https://tasty.co/ingredient' #I think I can get all of the recipes using recipe by ingredient\n",
    "r = requests.get(Base_url, headers=headers)\n",
    "soup = BeautifulSoup(r.content, 'html.parser')\n"
   ]
  },
  {
   "cell_type": "code",
   "execution_count": 165,
   "id": "a8f6655c-e0af-497b-adce-cfcc0a03b976",
   "metadata": {},
   "outputs": [],
   "source": [
    "test = soup.find_all(type=\"application/ld+json\")\n"
   ]
  },
  {
   "cell_type": "code",
   "execution_count": 167,
   "id": "661001a0-17da-4fc6-8e27-4bd9d375c817",
   "metadata": {
    "tags": []
   },
   "outputs": [],
   "source": [
    "holder = test[0]\n",
    "x=str(holder)[35:16902] #This is the part that is a json\n",
    "import json\n",
    "y = json.loads(x)\n",
    "links_to_recipes_by_ing = [i['url'] for i in y[\"itemListElement\"]]"
   ]
  },
  {
   "cell_type": "code",
   "execution_count": 317,
   "id": "9313e733-bda2-406e-9f87-d594b3bfaa97",
   "metadata": {
    "tags": []
   },
   "outputs": [
    {
     "data": {
      "text/plain": [
       "['https://tasty.co/ingredient/all-purpose-flour',\n",
       " 'https://tasty.co/ingredient/allspice']"
      ]
     },
     "execution_count": 317,
     "metadata": {},
     "output_type": "execute_result"
    }
   ],
   "source": [
    "links_to_recipes_by_ing[0:2] #Just peaking to see if it worked!"
   ]
  },
  {
   "cell_type": "code",
   "execution_count": 190,
   "id": "b0b70030-ddac-4818-8807-671a59382230",
   "metadata": {},
   "outputs": [],
   "source": [
    "recipe_links = []\n",
    "for link in links_to_recipes_by_ing:\n",
    "    Base_url = link\n",
    "    r = requests.get(Base_url, headers=headers)\n",
    "    soup = BeautifulSoup(r.content, 'html.parser')\n",
    "    test = soup.find_all(type=\"application/ld+json\")\n",
    "    try:\n",
    "        holder = test[0]  \n",
    "        holder\n",
    "        x=str(holder)[35:-9]\n",
    "        y = json.loads(x)\n",
    "        recipe_links += [i['url'] for i in y[\"itemListElement\"]]\n",
    "    except:\n",
    "        pass"
   ]
  },
  {
   "cell_type": "markdown",
   "id": "5f3b16c6-7f38-455e-a4f7-0af587989c22",
   "metadata": {},
   "source": [
    "Here I check for repeats by looking at the length of tthe list and the set"
   ]
  },
  {
   "cell_type": "code",
   "execution_count": 191,
   "id": "66b3d943-5f59-4146-9e2e-fa13efb11703",
   "metadata": {},
   "outputs": [
    {
     "data": {
      "text/plain": [
       "3794"
      ]
     },
     "execution_count": 191,
     "metadata": {},
     "output_type": "execute_result"
    }
   ],
   "source": [
    "len(recipe_links)"
   ]
  },
  {
   "cell_type": "code",
   "execution_count": 194,
   "id": "1aa4412a-9bb1-455d-ae75-d4d1658ba0e6",
   "metadata": {},
   "outputs": [
    {
     "data": {
      "text/plain": [
       "2098"
      ]
     },
     "execution_count": 194,
     "metadata": {},
     "output_type": "execute_result"
    }
   ],
   "source": [
    "len(list(set(recipe_links)))"
   ]
  },
  {
   "cell_type": "markdown",
   "id": "d3714971-25c5-4873-a182-5bf7bbc6e3e7",
   "metadata": {},
   "source": [
    "Getting rid of the repeats"
   ]
  },
  {
   "cell_type": "code",
   "execution_count": 195,
   "id": "61f90bfc-f3f6-4407-a8b7-3ff884f1e58f",
   "metadata": {},
   "outputs": [],
   "source": [
    "final_recipe_links = list(set(recipe_links))"
   ]
  },
  {
   "cell_type": "code",
   "execution_count": null,
   "id": "803d8459-a8a3-4d35-9177-caae85b3586d",
   "metadata": {},
   "outputs": [],
   "source": []
  },
  {
   "cell_type": "markdown",
   "id": "195c7e4f-ccff-448f-9ffd-bef5d04e87d1",
   "metadata": {},
   "source": [
    "## Scraping the instructions!"
   ]
  },
  {
   "cell_type": "code",
   "execution_count": 246,
   "id": "d37cd87c-594f-4875-95ac-2f24af139c33",
   "metadata": {},
   "outputs": [],
   "source": [
    "instructions = []\n",
    "for link in final_recipe_links:\n",
    "    Base_url = link\n",
    "    r = requests.get(Base_url, headers=headers)\n",
    "    soup = BeautifulSoup(r.content, 'html.parser')\n",
    "    test = soup.find_all(class_=\"xs-mb2\")\n",
    "    instructions.append(test[2].get_text())"
   ]
  },
  {
   "cell_type": "code",
   "execution_count": 249,
   "id": "cf2bacd9-194a-48f1-a45f-87d4cc08307b",
   "metadata": {},
   "outputs": [
    {
     "data": {
      "text/plain": [
       "2098"
      ]
     },
     "execution_count": 249,
     "metadata": {},
     "output_type": "execute_result"
    }
   ],
   "source": [
    "len(instructions)"
   ]
  },
  {
   "cell_type": "code",
   "execution_count": null,
   "id": "c9a3983f-d746-45ea-bbdd-e80b27d9eb74",
   "metadata": {},
   "outputs": [],
   "source": []
  },
  {
   "cell_type": "code",
   "execution_count": null,
   "id": "1930fd37-7ec6-4601-a847-f5c16474c7ae",
   "metadata": {},
   "outputs": [],
   "source": []
  },
  {
   "cell_type": "code",
   "execution_count": null,
   "id": "6b021ec1-bf0c-4849-a13e-c1519f588aac",
   "metadata": {},
   "outputs": [],
   "source": []
  },
  {
   "cell_type": "code",
   "execution_count": null,
   "id": "2570354d-c097-4aca-9591-d97444faafac",
   "metadata": {},
   "outputs": [],
   "source": []
  },
  {
   "cell_type": "code",
   "execution_count": null,
   "id": "1af8fe9c-eb19-40b3-8221-63eb5a7cf6f4",
   "metadata": {},
   "outputs": [],
   "source": []
  },
  {
   "cell_type": "code",
   "execution_count": 311,
   "id": "1df13305-6a91-43d0-9086-ce1d6353febe",
   "metadata": {},
   "outputs": [],
   "source": []
  },
  {
   "cell_type": "markdown",
   "id": "c2cb7a52-5f8f-4cfa-82b4-7bec6c88e5a8",
   "metadata": {},
   "source": [
    "## Scraping the ingrdients!"
   ]
  },
  {
   "cell_type": "code",
   "execution_count": 315,
   "id": "5939b12d-30dd-4e4f-a6f8-4ada6cdb2f96",
   "metadata": {},
   "outputs": [],
   "source": [
    "def grab_ingredients(tags):\n",
    "    \"\"\"Input the list of tags from scraping\n",
    "    Output the list of ingredients\"\"\"\n",
    "    ls = []\n",
    "    for tag in tags:\n",
    "        ls.append(tag.get_text())\n",
    "    ing = []\n",
    "    for i in range(len(ls)):\n",
    "        if ls[i].startswith('featured'):\n",
    "            pass\n",
    "        elif ls[i].startswith('Calories'):\n",
    "            break\n",
    "        else:\n",
    "            ing.append(ls[i])\n",
    "    return(ing)\n",
    "\n",
    "\n",
    "\n",
    "\n",
    "ingredients = []\n",
    "for link in final_recipe_links:\n",
    "    Base_url = link\n",
    "    r = requests.get(Base_url, headers=headers)\n",
    "    soup = BeautifulSoup(r.content, 'html.parser')\n",
    "    test = soup.find_all(class_=\"xs-mb1\")\n",
    "    ingredients.append(grab_ingredients(test))"
   ]
  },
  {
   "cell_type": "code",
   "execution_count": 316,
   "id": "12cc4ba9-21c0-4f99-82ea-7b5a5faf8948",
   "metadata": {},
   "outputs": [
    {
     "data": {
      "text/plain": [
       "2098"
      ]
     },
     "execution_count": 316,
     "metadata": {},
     "output_type": "execute_result"
    }
   ],
   "source": [
    "len(ingredients)"
   ]
  },
  {
   "cell_type": "markdown",
   "id": "4f7a46d2-2acc-46b5-9a5c-4ad1ad8295af",
   "metadata": {},
   "source": [
    "## Creating a dataframe and saving to a csv for later"
   ]
  },
  {
   "cell_type": "code",
   "execution_count": 318,
   "id": "f32ffb4e-7656-4df0-bf27-6f177b2de0a0",
   "metadata": {},
   "outputs": [],
   "source": [
    "data = pd.DataFrame({'recipe_link':final_recipe_links, 'ingredients':ingredients, 'instructions':instructions})"
   ]
  },
  {
   "cell_type": "code",
   "execution_count": 320,
   "id": "23668903-f321-443b-9fa2-c6bcea0ed775",
   "metadata": {},
   "outputs": [],
   "source": [
    "data.to_csv('scraped_recipe_data')"
   ]
  },
  {
   "cell_type": "code",
   "execution_count": null,
   "id": "5943a27a-0d90-4cb0-bcd3-99dacbf737a1",
   "metadata": {},
   "outputs": [],
   "source": []
  }
 ],
 "metadata": {
  "kernelspec": {
   "display_name": "Python 3",
   "language": "python",
   "name": "python3"
  },
  "language_info": {
   "codemirror_mode": {
    "name": "ipython",
    "version": 3
   },
   "file_extension": ".py",
   "mimetype": "text/x-python",
   "name": "python",
   "nbconvert_exporter": "python",
   "pygments_lexer": "ipython3",
   "version": "3.6.10"
  },
  "widgets": {
   "application/vnd.jupyter.widget-state+json": {
    "state": {},
    "version_major": 2,
    "version_minor": 0
   }
  }
 },
 "nbformat": 4,
 "nbformat_minor": 5
}
